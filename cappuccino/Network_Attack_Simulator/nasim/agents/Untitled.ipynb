{
 "cells": [
  {
   "cell_type": "code",
   "execution_count": 1,
   "metadata": {},
   "outputs": [
    {
     "name": "stdout",
     "output_type": "stream",
     "text": [
      "Requirement already satisfied: tensorboard in c:\\users\\young_thug\\appdata\\roaming\\python\\python37\\site-packages (2.1.1)\n",
      "Requirement already satisfied: werkzeug>=0.11.15 in c:\\programdata\\anaconda3\\lib\\site-packages (from tensorboard) (0.16.0)\n",
      "Requirement already satisfied: google-auth-oauthlib<0.5,>=0.4.1 in c:\\users\\young_thug\\appdata\\roaming\\python\\python37\\site-packages (from tensorboard) (0.4.1)\n",
      "Requirement already satisfied: wheel>=0.26; python_version >= \"3\" in c:\\programdata\\anaconda3\\lib\\site-packages (from tensorboard) (0.33.6)\n",
      "Requirement already satisfied: absl-py>=0.4 in c:\\users\\young_thug\\appdata\\roaming\\python\\python37\\site-packages (from tensorboard) (0.9.0)\n",
      "Requirement already satisfied: setuptools>=41.0.0 in c:\\programdata\\anaconda3\\lib\\site-packages (from tensorboard) (41.4.0)\n",
      "Requirement already satisfied: grpcio>=1.24.3 in c:\\users\\young_thug\\appdata\\roaming\\python\\python37\\site-packages (from tensorboard) (1.28.1)\n",
      "Requirement already satisfied: markdown>=2.6.8 in c:\\users\\young_thug\\appdata\\roaming\\python\\python37\\site-packages (from tensorboard) (3.2.1)\n",
      "Requirement already satisfied: google-auth<2,>=1.6.3 in c:\\users\\young_thug\\appdata\\roaming\\python\\python37\\site-packages (from tensorboard) (1.14.1)\n",
      "Requirement already satisfied: numpy>=1.12.0 in c:\\programdata\\anaconda3\\lib\\site-packages (from tensorboard) (1.16.5)\n",
      "Requirement already satisfied: protobuf>=3.6.0 in c:\\users\\young_thug\\appdata\\roaming\\python\\python37\\site-packages (from tensorboard) (3.11.3)\n",
      "Requirement already satisfied: requests<3,>=2.21.0 in c:\\programdata\\anaconda3\\lib\\site-packages (from tensorboard) (2.22.0)\n",
      "Requirement already satisfied: six>=1.10.0 in c:\\programdata\\anaconda3\\lib\\site-packages (from tensorboard) (1.12.0)\n",
      "Requirement already satisfied: requests-oauthlib>=0.7.0 in c:\\users\\young_thug\\appdata\\roaming\\python\\python37\\site-packages (from google-auth-oauthlib<0.5,>=0.4.1->tensorboard) (1.3.0)\n",
      "Requirement already satisfied: pyasn1-modules>=0.2.1 in c:\\users\\young_thug\\appdata\\roaming\\python\\python37\\site-packages (from google-auth<2,>=1.6.3->tensorboard) (0.2.8)\n",
      "Requirement already satisfied: rsa<4.1,>=3.1.4 in c:\\users\\young_thug\\appdata\\roaming\\python\\python37\\site-packages (from google-auth<2,>=1.6.3->tensorboard) (4.0)\n",
      "Requirement already satisfied: cachetools<5.0,>=2.0.0 in c:\\users\\young_thug\\appdata\\roaming\\python\\python37\\site-packages (from google-auth<2,>=1.6.3->tensorboard) (4.1.0)\n",
      "Requirement already satisfied: idna<2.9,>=2.5 in c:\\programdata\\anaconda3\\lib\\site-packages (from requests<3,>=2.21.0->tensorboard) (2.8)\n",
      "Requirement already satisfied: chardet<3.1.0,>=3.0.2 in c:\\programdata\\anaconda3\\lib\\site-packages (from requests<3,>=2.21.0->tensorboard) (3.0.4)\n",
      "Requirement already satisfied: urllib3!=1.25.0,!=1.25.1,<1.26,>=1.21.1 in c:\\programdata\\anaconda3\\lib\\site-packages (from requests<3,>=2.21.0->tensorboard) (1.24.2)\n",
      "Requirement already satisfied: certifi>=2017.4.17 in c:\\programdata\\anaconda3\\lib\\site-packages (from requests<3,>=2.21.0->tensorboard) (2019.9.11)\n",
      "Requirement already satisfied: oauthlib>=3.0.0 in c:\\users\\young_thug\\appdata\\roaming\\python\\python37\\site-packages (from requests-oauthlib>=0.7.0->google-auth-oauthlib<0.5,>=0.4.1->tensorboard) (3.1.0)\n",
      "Requirement already satisfied: pyasn1<0.5.0,>=0.4.6 in c:\\users\\young_thug\\appdata\\roaming\\python\\python37\\site-packages (from pyasn1-modules>=0.2.1->google-auth<2,>=1.6.3->tensorboard) (0.4.8)\n"
     ]
    },
    {
     "name": "stderr",
     "output_type": "stream",
     "text": [
      "WARNING: You are using pip version 20.1.1; however, version 20.2.2 is available.\n",
      "You should consider upgrading via the 'c:\\programdata\\anaconda3\\python.exe -m pip install --upgrade pip' command.\n"
     ]
    }
   ],
   "source": [
    "!pip install tensorboard"
   ]
  },
  {
   "cell_type": "code",
   "execution_count": 3,
   "metadata": {},
   "outputs": [
    {
     "name": "stderr",
     "output_type": "stream",
     "text": [
      "2020-08-26 21:08:08.798623: W tensorflow/stream_executor/platform/default/dso_loader.cc:55] Could not load dynamic library 'cudart64_101.dll'; dlerror: cudart64_101.dll not found\n",
      "2020-08-26 21:08:08.799521: I tensorflow/stream_executor/cuda/cudart_stub.cc:29] Ignore above cudart dlerror if you do not have a GPU set up on your machine.\n",
      "Traceback (most recent call last):\n",
      "  File \"c:\\programdata\\anaconda3\\lib\\runpy.py\", line 193, in _run_module_as_main\n",
      "    \"__main__\", mod_spec)\n",
      "  File \"c:\\programdata\\anaconda3\\lib\\runpy.py\", line 85, in _run_code\n",
      "    exec(code, run_globals)\n",
      "  File \"C:\\ProgramData\\Anaconda3\\Scripts\\tensorboard.exe\\__main__.py\", line 9, in <module>\n",
      "  File \"C:\\Users\\Young_Thug\\AppData\\Roaming\\Python\\Python37\\site-packages\\tensorboard\\main.py\", line 66, in run_main\n",
      "    app.run(tensorboard.main, flags_parser=tensorboard.configure)\n",
      "  File \"C:\\Users\\Young_Thug\\AppData\\Roaming\\Python\\Python37\\site-packages\\absl\\app.py\", line 299, in run\n",
      "    _run_main(main, args)\n",
      "  File \"C:\\Users\\Young_Thug\\AppData\\Roaming\\Python\\Python37\\site-packages\\absl\\app.py\", line 250, in _run_main\n",
      "    sys.exit(main(argv))\n",
      "  File \"C:\\Users\\Young_Thug\\AppData\\Roaming\\Python\\Python37\\site-packages\\tensorboard\\program.py\", line 268, in main\n",
      "    return runner(self.flags) or 0\n",
      "  File \"C:\\Users\\Young_Thug\\AppData\\Roaming\\Python\\Python37\\site-packages\\tensorboard\\program.py\", line 282, in _run_serve_subcommand\n",
      "    server = self._make_server()\n",
      "  File \"C:\\Users\\Young_Thug\\AppData\\Roaming\\Python\\Python37\\site-packages\\tensorboard\\program.py\", line 361, in _make_server\n",
      "    self.assets_zip_provider)\n",
      "  File \"C:\\Users\\Young_Thug\\AppData\\Roaming\\Python\\Python37\\site-packages\\tensorboard\\backend\\application.py\", line 165, in standard_tensorboard_wsgi\n",
      "    flags, plugin_loaders, data_provider, assets_zip_provider, multiplexer)\n",
      "  File \"C:\\Users\\Young_Thug\\AppData\\Roaming\\Python\\Python37\\site-packages\\tensorboard\\backend\\application.py\", line 234, in TensorBoardWSGIApp\n",
      "    return TensorBoardWSGI(tbplugins, flags.path_prefix)\n",
      "  File \"C:\\Users\\Young_Thug\\AppData\\Roaming\\Python\\Python37\\site-packages\\tensorboard\\backend\\application.py\", line 286, in __init__\n",
      "    raise ValueError('Duplicate plugins for name %s' % plugin.plugin_name)\n",
      "ValueError: Duplicate plugins for name projector\n"
     ]
    }
   ],
   "source": [
    "!tensorboard --logdir runs"
   ]
  },
  {
   "cell_type": "code",
   "execution_count": null,
   "metadata": {},
   "outputs": [],
   "source": []
  }
 ],
 "metadata": {
  "kernelspec": {
   "display_name": "Python 3",
   "language": "python",
   "name": "python3"
  },
  "language_info": {
   "codemirror_mode": {
    "name": "ipython",
    "version": 3
   },
   "file_extension": ".py",
   "mimetype": "text/x-python",
   "name": "python",
   "nbconvert_exporter": "python",
   "pygments_lexer": "ipython3",
   "version": "3.7.4"
  }
 },
 "nbformat": 4,
 "nbformat_minor": 2
}
